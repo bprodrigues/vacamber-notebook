{
 "cells": [
  {
   "cell_type": "code",
   "execution_count": 1,
   "id": "73581e83",
   "metadata": {},
   "outputs": [],
   "source": [
    "# This is a test notebook"
   ]
  },
  {
   "cell_type": "code",
   "execution_count": 2,
   "id": "34d3043a",
   "metadata": {},
   "outputs": [],
   "source": [
    "a = 6\n",
    "b = 76"
   ]
  },
  {
   "cell_type": "code",
   "execution_count": 3,
   "id": "3240d57b",
   "metadata": {},
   "outputs": [
    {
     "name": "stdout",
     "output_type": "stream",
     "text": [
      "12\n"
     ]
    }
   ],
   "source": [
    "print(b//a)"
   ]
  },
  {
   "cell_type": "code",
   "execution_count": null,
   "id": "194fa5ba",
   "metadata": {},
   "outputs": [],
   "source": []
  }
 ],
 "metadata": {
  "kernelspec": {
   "display_name": "Python 3 (ipykernel)",
   "language": "python",
   "name": "python3"
  },
  "language_info": {
   "codemirror_mode": {
    "name": "ipython",
    "version": 3
   },
   "file_extension": ".py",
   "mimetype": "text/x-python",
   "name": "python",
   "nbconvert_exporter": "python",
   "pygments_lexer": "ipython3",
   "version": "3.9.16"
  }
 },
 "nbformat": 4,
 "nbformat_minor": 5
}
